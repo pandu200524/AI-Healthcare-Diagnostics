{
  "nbformat": 4,
  "nbformat_minor": 0,
  "metadata": {
    "colab": {
      "provenance": []
    },
    "kernelspec": {
      "name": "python3",
      "display_name": "Python 3"
    },
    "language_info": {
      "name": "python"
    }
  },
  "cells": [
    {
      "cell_type": "code",
      "source": [
        "class HealthcareDiagnosticsAgent:\n",
        "    def __init__(self):\n",
        "        self.symptoms_database = {\n",
        "            \"fever\": [\"flu\", \"covid\", \"dengue\"],\n",
        "            \"cough\": [\"flu\", \"covid\", \"bronchitis\"],\n",
        "            \"fatigue\": [\"anemia\", \"diabetes\", \"covid\"],\n",
        "            \"headache\": [\"migraine\", \"hypertension\", \"flu\"]\n",
        "        }\n",
        "        self.patient_data = {}  # Initialize an empty dictionary\n",
        "\n",
        "    def collect_patient_info(self):\n",
        "        print(\"\\nEnter patient details:\")\n",
        "        self.patient_data['age'] = input(\"Age: \")\n",
        "        self.patient_data['gender'] = input(\"Gender (M/F): \")\n",
        "        self.patient_data['symptoms'] = input(\"Enter symptoms (comma-separated): \").lower().split(',')\n",
        "\n",
        "    def diagnose(self):\n",
        "        if 'symptoms' not in self.patient_data or not self.patient_data['symptoms']:\n",
        "            print(\"No symptoms provided. Please enter patient details first.\")\n",
        "            return\n",
        "\n",
        "        possible_diseases = []\n",
        "        for symptom in self.patient_data['symptoms']:\n",
        "            symptom = symptom.strip()\n",
        "            if symptom in self.symptoms_database:\n",
        "                possible_diseases.extend(self.symptoms_database[symptom])\n",
        "\n",
        "        if possible_diseases:\n",
        "            predicted_disease = max(set(possible_diseases), key=possible_diseases.count)\n",
        "            print(f\"\\nPredicted Diagnosis: {predicted_disease.capitalize()}\")\n",
        "            print(\"Suggested Next Steps:\")\n",
        "            if predicted_disease in [\"covid\", \"flu\"]:\n",
        "                print(\"- Rest, hydration, and consult a doctor.\")\n",
        "            elif predicted_disease == \"anemia\":\n",
        "                print(\"- Blood test and iron supplements.\")\n",
        "            elif predicted_disease == \"migraine\":\n",
        "                print(\"- Avoid triggers, consult a neurologist.\")\n",
        "            else:\n",
        "                print(\"- Further medical evaluation recommended.\")\n",
        "        else:\n",
        "            print(\"\\nNo clear diagnosis. Further tests needed.\")\n",
        "\n",
        "# Create a healthcare diagnostics assistant instance\n",
        "agent = HealthcareDiagnosticsAgent()\n",
        "\n",
        "# Main loop\n",
        "while True:\n",
        "    print(\"\\nWhat would you like to do?\")\n",
        "    print(\"1. Enter Patient Details\")\n",
        "    print(\"2. Diagnose\")\n",
        "    print(\"3. Exit\")\n",
        "\n",
        "    choice = input(\"Enter your choice: \")\n",
        "\n",
        "    if choice == '1':\n",
        "        agent.collect_patient_info()\n",
        "    elif choice == '2':\n",
        "        agent.diagnose()\n",
        "    elif choice == '3':\n",
        "        print(\"Thank you for using the healthcare diagnostics agent!\")\n",
        "        break\n",
        "    else:\n",
        "        print(\"Invalid choice. Please select a valid option.\")\n"
      ],
      "metadata": {
        "colab": {
          "base_uri": "https://localhost:8080/"
        },
        "id": "JlrNmmNQmNi_",
        "outputId": "08eb6841-23b3-4fe9-afee-d63c9cc2fe25"
      },
      "execution_count": 6,
      "outputs": [
        {
          "output_type": "stream",
          "name": "stdout",
          "text": [
            "\n",
            "What would you like to do?\n",
            "1. Enter Patient Details\n",
            "2. Diagnose\n",
            "3. Exit\n",
            "Enter your choice: 1\n",
            "\n",
            "Enter patient details:\n",
            "Age: 70\n",
            "Gender (M/F): F\n",
            "Enter symptoms (comma-separated): fever,headache\n",
            "\n",
            "What would you like to do?\n",
            "1. Enter Patient Details\n",
            "2. Diagnose\n",
            "3. Exit\n",
            "Enter your choice: 2\n",
            "\n",
            "Predicted Diagnosis: Flu\n",
            "Suggested Next Steps:\n",
            "- Rest, hydration, and consult a doctor.\n",
            "\n",
            "What would you like to do?\n",
            "1. Enter Patient Details\n",
            "2. Diagnose\n",
            "3. Exit\n",
            "Enter your choice: 3\n",
            "Thank you for using the healthcare diagnostics agent!\n"
          ]
        }
      ]
    }
  ]
}